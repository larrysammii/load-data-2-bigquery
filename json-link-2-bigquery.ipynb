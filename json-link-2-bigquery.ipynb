{
 "cells": [
  {
   "cell_type": "code",
   "execution_count": 1,
   "metadata": {},
   "outputs": [
    {
     "name": "stdout",
     "output_type": "stream",
     "text": [
      "Requirement already satisfied: pandas-gbq in ./bigquery/lib/python3.10/site-packages (0.19.2)\n",
      "Requirement already satisfied: google-cloud-bigquery!=2.4.*,<4.0.0dev,>=3.3.5 in ./bigquery/lib/python3.10/site-packages (from pandas-gbq) (3.11.4)\n",
      "Requirement already satisfied: db-dtypes<2.0.0,>=1.0.4 in ./bigquery/lib/python3.10/site-packages (from pandas-gbq) (1.1.1)\n",
      "Requirement already satisfied: pydata-google-auth>=1.5.0 in ./bigquery/lib/python3.10/site-packages (from pandas-gbq) (1.8.2)\n",
      "Requirement already satisfied: pyarrow>=3.0.0 in ./bigquery/lib/python3.10/site-packages (from pandas-gbq) (13.0.0)\n",
      "Requirement already satisfied: google-auth-oauthlib>=0.7.0 in ./bigquery/lib/python3.10/site-packages (from pandas-gbq) (1.0.0)\n",
      "Requirement already satisfied: google-cloud-bigquery-storage<3.0.0dev,>=2.16.2 in ./bigquery/lib/python3.10/site-packages (from pandas-gbq) (2.22.0)\n",
      "Requirement already satisfied: pandas>=1.1.4 in ./bigquery/lib/python3.10/site-packages (from pandas-gbq) (2.0.3)\n",
      "Requirement already satisfied: numpy>=1.16.6 in ./bigquery/lib/python3.10/site-packages (from pandas-gbq) (1.25.2)\n",
      "Requirement already satisfied: google-auth>=2.13.0 in ./bigquery/lib/python3.10/site-packages (from pandas-gbq) (2.22.0)\n",
      "Requirement already satisfied: google-api-core<3.0.0dev,>=2.10.2 in ./bigquery/lib/python3.10/site-packages (from pandas-gbq) (2.11.1)\n",
      "Requirement already satisfied: setuptools in ./bigquery/lib/python3.10/site-packages (from pandas-gbq) (65.5.0)\n",
      "Requirement already satisfied: packaging>=17.0 in ./bigquery/lib/python3.10/site-packages (from db-dtypes<2.0.0,>=1.0.4->pandas-gbq) (23.1)\n",
      "Requirement already satisfied: requests<3.0.0.dev0,>=2.18.0 in ./bigquery/lib/python3.10/site-packages (from google-api-core<3.0.0dev,>=2.10.2->pandas-gbq) (2.31.0)\n",
      "Requirement already satisfied: protobuf!=3.20.0,!=3.20.1,!=4.21.0,!=4.21.1,!=4.21.2,!=4.21.3,!=4.21.4,!=4.21.5,<5.0.0.dev0,>=3.19.5 in ./bigquery/lib/python3.10/site-packages (from google-api-core<3.0.0dev,>=2.10.2->pandas-gbq) (4.24.0)\n",
      "Requirement already satisfied: googleapis-common-protos<2.0.dev0,>=1.56.2 in ./bigquery/lib/python3.10/site-packages (from google-api-core<3.0.0dev,>=2.10.2->pandas-gbq) (1.60.0)\n",
      "Requirement already satisfied: pyasn1-modules>=0.2.1 in ./bigquery/lib/python3.10/site-packages (from google-auth>=2.13.0->pandas-gbq) (0.3.0)\n",
      "Requirement already satisfied: cachetools<6.0,>=2.0.0 in ./bigquery/lib/python3.10/site-packages (from google-auth>=2.13.0->pandas-gbq) (5.3.1)\n",
      "Requirement already satisfied: six>=1.9.0 in ./bigquery/lib/python3.10/site-packages (from google-auth>=2.13.0->pandas-gbq) (1.16.0)\n",
      "Requirement already satisfied: urllib3<2.0 in ./bigquery/lib/python3.10/site-packages (from google-auth>=2.13.0->pandas-gbq) (1.26.16)\n",
      "Requirement already satisfied: rsa<5,>=3.1.4 in ./bigquery/lib/python3.10/site-packages (from google-auth>=2.13.0->pandas-gbq) (4.9)\n",
      "Requirement already satisfied: requests-oauthlib>=0.7.0 in ./bigquery/lib/python3.10/site-packages (from google-auth-oauthlib>=0.7.0->pandas-gbq) (1.3.1)\n",
      "Requirement already satisfied: google-cloud-core<3.0.0dev,>=1.6.0 in ./bigquery/lib/python3.10/site-packages (from google-cloud-bigquery!=2.4.*,<4.0.0dev,>=3.3.5->pandas-gbq) (2.3.3)\n",
      "Requirement already satisfied: python-dateutil<3.0dev,>=2.7.2 in ./bigquery/lib/python3.10/site-packages (from google-cloud-bigquery!=2.4.*,<4.0.0dev,>=3.3.5->pandas-gbq) (2.8.2)\n",
      "Requirement already satisfied: grpcio<2.0dev,>=1.47.0 in ./bigquery/lib/python3.10/site-packages (from google-cloud-bigquery!=2.4.*,<4.0.0dev,>=3.3.5->pandas-gbq) (1.57.0)\n",
      "Requirement already satisfied: google-resumable-media<3.0dev,>=0.6.0 in ./bigquery/lib/python3.10/site-packages (from google-cloud-bigquery!=2.4.*,<4.0.0dev,>=3.3.5->pandas-gbq) (2.5.0)\n",
      "Requirement already satisfied: proto-plus<2.0.0dev,>=1.15.0 in ./bigquery/lib/python3.10/site-packages (from google-cloud-bigquery!=2.4.*,<4.0.0dev,>=3.3.5->pandas-gbq) (1.22.3)\n",
      "Requirement already satisfied: tzdata>=2022.1 in ./bigquery/lib/python3.10/site-packages (from pandas>=1.1.4->pandas-gbq) (2023.3)\n",
      "Requirement already satisfied: pytz>=2020.1 in ./bigquery/lib/python3.10/site-packages (from pandas>=1.1.4->pandas-gbq) (2023.3)\n",
      "Requirement already satisfied: grpcio-status<2.0.dev0,>=1.33.2 in ./bigquery/lib/python3.10/site-packages (from google-api-core<3.0.0dev,>=2.10.2->pandas-gbq) (1.57.0)\n",
      "Requirement already satisfied: google-crc32c<2.0dev,>=1.0 in ./bigquery/lib/python3.10/site-packages (from google-resumable-media<3.0dev,>=0.6.0->google-cloud-bigquery!=2.4.*,<4.0.0dev,>=3.3.5->pandas-gbq) (1.5.0)\n",
      "Requirement already satisfied: pyasn1<0.6.0,>=0.4.6 in ./bigquery/lib/python3.10/site-packages (from pyasn1-modules>=0.2.1->google-auth>=2.13.0->pandas-gbq) (0.5.0)\n",
      "Requirement already satisfied: certifi>=2017.4.17 in ./bigquery/lib/python3.10/site-packages (from requests<3.0.0.dev0,>=2.18.0->google-api-core<3.0.0dev,>=2.10.2->pandas-gbq) (2023.7.22)\n",
      "Requirement already satisfied: idna<4,>=2.5 in ./bigquery/lib/python3.10/site-packages (from requests<3.0.0.dev0,>=2.18.0->google-api-core<3.0.0dev,>=2.10.2->pandas-gbq) (3.4)\n",
      "Requirement already satisfied: charset-normalizer<4,>=2 in ./bigquery/lib/python3.10/site-packages (from requests<3.0.0.dev0,>=2.18.0->google-api-core<3.0.0dev,>=2.10.2->pandas-gbq) (3.2.0)\n",
      "Requirement already satisfied: oauthlib>=3.0.0 in ./bigquery/lib/python3.10/site-packages (from requests-oauthlib>=0.7.0->google-auth-oauthlib>=0.7.0->pandas-gbq) (3.2.2)\n",
      "\n",
      "\u001b[1m[\u001b[0m\u001b[34;49mnotice\u001b[0m\u001b[1;39;49m]\u001b[0m\u001b[39;49m A new release of pip is available: \u001b[0m\u001b[31;49m23.0.1\u001b[0m\u001b[39;49m -> \u001b[0m\u001b[32;49m23.2.1\u001b[0m\n",
      "\u001b[1m[\u001b[0m\u001b[34;49mnotice\u001b[0m\u001b[1;39;49m]\u001b[0m\u001b[39;49m To update, run: \u001b[0m\u001b[32;49mpip install --upgrade pip\u001b[0m\n",
      "Requirement already satisfied: parquet in ./bigquery/lib/python3.10/site-packages (1.3.1)\n",
      "Requirement already satisfied: thriftpy2 in ./bigquery/lib/python3.10/site-packages (from parquet) (0.4.16)\n",
      "Requirement already satisfied: ply<4.0,>=3.4 in ./bigquery/lib/python3.10/site-packages (from thriftpy2->parquet) (3.11)\n",
      "Requirement already satisfied: six~=1.15 in ./bigquery/lib/python3.10/site-packages (from thriftpy2->parquet) (1.16.0)\n",
      "\n",
      "\u001b[1m[\u001b[0m\u001b[34;49mnotice\u001b[0m\u001b[1;39;49m]\u001b[0m\u001b[39;49m A new release of pip is available: \u001b[0m\u001b[31;49m23.0.1\u001b[0m\u001b[39;49m -> \u001b[0m\u001b[32;49m23.2.1\u001b[0m\n",
      "\u001b[1m[\u001b[0m\u001b[34;49mnotice\u001b[0m\u001b[1;39;49m]\u001b[0m\u001b[39;49m To update, run: \u001b[0m\u001b[32;49mpip install --upgrade pip\u001b[0m\n",
      "Requirement already satisfied: pyarrow in ./bigquery/lib/python3.10/site-packages (13.0.0)\n",
      "Requirement already satisfied: numpy>=1.16.6 in ./bigquery/lib/python3.10/site-packages (from pyarrow) (1.25.2)\n",
      "\n",
      "\u001b[1m[\u001b[0m\u001b[34;49mnotice\u001b[0m\u001b[1;39;49m]\u001b[0m\u001b[39;49m A new release of pip is available: \u001b[0m\u001b[31;49m23.0.1\u001b[0m\u001b[39;49m -> \u001b[0m\u001b[32;49m23.2.1\u001b[0m\n",
      "\u001b[1m[\u001b[0m\u001b[34;49mnotice\u001b[0m\u001b[1;39;49m]\u001b[0m\u001b[39;49m To update, run: \u001b[0m\u001b[32;49mpip install --upgrade pip\u001b[0m\n"
     ]
    }
   ],
   "source": [
    "!pip install pandas-gbq -U\n",
    "!pip install parquet\n",
    "!pip install pyarrow"
   ]
  },
  {
   "cell_type": "code",
   "execution_count": 69,
   "metadata": {},
   "outputs": [],
   "source": [
    "import pandas as pd\n",
    "import pandas_gbq\n",
    "import requests\n",
    "import json\n",
    "from google.cloud import bigquery\n",
    "import os"
   ]
  },
  {
   "cell_type": "markdown",
   "metadata": {},
   "source": [
    "##URI is example only, change it to suit your needs"
   ]
  },
  {
   "cell_type": "code",
   "execution_count": 75,
   "metadata": {},
   "outputs": [
    {
     "name": "stdout",
     "output_type": "stream",
     "text": [
      "    SEX SEXDesc freq  period          sv svDesc  figure sd_value\n",
      "0         Total    Y    1985  MDNHRWKUDE  Hours      24         \n",
      "1     F  Female    Y    1985  MDNHRWKUDE  Hours      24         \n",
      "2     M    Male    Y    1985  MDNHRWKUDE  Hours      24         \n",
      "3         Total    Q  198503  MDNHRWKUDE  Hours      24         \n",
      "4     F  Female    Q  198503  MDNHRWKUDE  Hours      24         \n",
      "..   ..     ...  ...     ...         ...    ...     ...      ...\n",
      "568   F  Female    Q  202212  MDNHRWKUDE  Hours      20        r\n",
      "569   M    Male    Q  202212  MDNHRWKUDE  Hours      24        r\n",
      "570       Total    Q  202303  MDNHRWKUDE  Hours      20         \n",
      "571   F  Female    Q  202303  MDNHRWKUDE  Hours      20         \n",
      "572   M    Male    Q  202303  MDNHRWKUDE  Hours      20         \n",
      "\n",
      "[573 rows x 8 columns]\n",
      "SEX         object\n",
      "SEXDesc     object\n",
      "freq        object\n",
      "period      object\n",
      "sv          object\n",
      "svDesc      object\n",
      "figure       int64\n",
      "sd_value    object\n",
      "dtype: object\n",
      "Index(['SEX', 'SEXDesc', 'freq', 'period', 'sv', 'svDesc', 'figure',\n",
      "       'sd_value'],\n",
      "      dtype='object')\n"
     ]
    }
   ],
   "source": [
    "response = requests.get('https://www.censtatd.gov.hk/api/get.php?id=210-06507&lang=en&full_series=1').text\n",
    "response_info = json.loads(response)\n",
    "response = pd.json_normalize(response_info['dataSet'])\n",
    "print(response)\n",
    "print(response.dtypes)\n",
    "print(response.columns)"
   ]
  },
  {
   "cell_type": "code",
   "execution_count": 76,
   "metadata": {},
   "outputs": [],
   "source": [
    "# OPTIONAL: converting object dtypes to strings\n",
    "response['period'] = response['period'].astype(int)"
   ]
  },
  {
   "cell_type": "markdown",
   "metadata": {},
   "source": [
    "Everything should be the same as CSV link to BigQuery"
   ]
  },
  {
   "cell_type": "code",
   "execution_count": 78,
   "metadata": {},
   "outputs": [
    {
     "name": "stdout",
     "output_type": "stream",
     "text": [
      "Loaded 573 rows and 8 columns to hk-re-analytics.hkgov_open_data.median-hours-of-work\n"
     ]
    }
   ],
   "source": [
    "os.environ['GOOGLE_APPLICATION_CREDENTIALS'] = 'credentials/hk-re-analytics-cfdf597ce9d5.json'\n",
    "client = bigquery.Client()\n",
    "\n",
    "project_id = 'hk-re-analytics'\n",
    "dataset_id = 'hkgov_open_data'\n",
    "table_id = 'median-hours-of-work'\n",
    "\n",
    "dataset_table_id = f'{dataset_id}.{table_id}'\n",
    "full_table_id = f'{project_id}.{dataset_id}.{table_id}'\n",
    "\n",
    "pandas_gbq.to_gbq(response, dataset_table_id, project_id=project_id)\n",
    "\n",
    "table = client.get_table(full_table_id)\n",
    "\n",
    "print(\n",
    "    f'Loaded {table.num_rows} rows and {len(table.schema)} columns to {full_table_id}'\n",
    ")"
   ]
  }
 ],
 "metadata": {
  "kernelspec": {
   "display_name": "bigquery",
   "language": "python",
   "name": "python3"
  },
  "language_info": {
   "codemirror_mode": {
    "name": "ipython",
    "version": 3
   },
   "file_extension": ".py",
   "mimetype": "text/x-python",
   "name": "python",
   "nbconvert_exporter": "python",
   "pygments_lexer": "ipython3",
   "version": "3.10.11"
  },
  "orig_nbformat": 4
 },
 "nbformat": 4,
 "nbformat_minor": 2
}
